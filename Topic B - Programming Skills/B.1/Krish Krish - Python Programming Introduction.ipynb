{
  "cells": [
    {
      "metadata": {},
      "cell_type": "markdown",
      "source": "# Module B.1 Python Programming Introduction"
    },
    {
      "metadata": {},
      "cell_type": "markdown",
      "source": "### Level 1: Basic Math & Strings\n#### Name: Krish Krish"
    },
    {
      "metadata": {
        "collapsed": true
      },
      "cell_type": "markdown",
      "source": "1.Complete “Lesson 3: Math – Math Basics” by typing the sample commands in the black area of the IDE. <br>\n>a.\tCreate your own expression using 5 “+” and “-“ operators. <br>\nb.\tList your expression and the result below.<br>\n"
    },
    {
      "metadata": {
        "trusted": true
      },
      "cell_type": "code",
      "source": "5 + 9",
      "execution_count": 1,
      "outputs": [
        {
          "output_type": "execute_result",
          "execution_count": 1,
          "data": {
            "text/plain": "14"
          },
          "metadata": {}
        }
      ]
    },
    {
      "metadata": {
        "trusted": true
      },
      "cell_type": "code",
      "source": "44-5",
      "execution_count": 2,
      "outputs": [
        {
          "output_type": "execute_result",
          "execution_count": 2,
          "data": {
            "text/plain": "39"
          },
          "metadata": {}
        }
      ]
    },
    {
      "metadata": {},
      "cell_type": "markdown",
      "source": "2.Complete “Lesson 3: Math – More Operators” by typing the sample commands in the black area of the IDE. <br>\n>a.\tCreate your own expression using 5 “*” and “/” operators. <br>\nb.\tList your expression and the result below.\n"
    },
    {
      "metadata": {
        "trusted": true
      },
      "cell_type": "code",
      "source": "5 * 7",
      "execution_count": 3,
      "outputs": [
        {
          "output_type": "execute_result",
          "execution_count": 3,
          "data": {
            "text/plain": "35"
          },
          "metadata": {}
        }
      ]
    },
    {
      "metadata": {
        "trusted": true
      },
      "cell_type": "code",
      "source": "85/5",
      "execution_count": 4,
      "outputs": [
        {
          "output_type": "execute_result",
          "execution_count": 4,
          "data": {
            "text/plain": "17.0"
          },
          "metadata": {}
        }
      ]
    },
    {
      "metadata": {},
      "cell_type": "markdown",
      "source": "3.Complete “Lesson 3: Math – More Division” by typing the sample commands in the black area of the IDE. <br>\n>a.\tCreate one division expression that gives a whole number answer <br>\nb.\tAnd one division expression that gives a decimal number answer. <br>\nc.\tList your expressions and the results below.\n"
    },
    {
      "metadata": {
        "trusted": true
      },
      "cell_type": "code",
      "source": "81/9",
      "execution_count": 5,
      "outputs": [
        {
          "output_type": "execute_result",
          "execution_count": 5,
          "data": {
            "text/plain": "9.0"
          },
          "metadata": {}
        }
      ]
    },
    {
      "metadata": {
        "trusted": true
      },
      "cell_type": "code",
      "source": "87/5",
      "execution_count": 6,
      "outputs": [
        {
          "output_type": "execute_result",
          "execution_count": 6,
          "data": {
            "text/plain": "17.4"
          },
          "metadata": {}
        }
      ]
    },
    {
      "metadata": {},
      "cell_type": "markdown",
      "source": "4.Complete “Lesson 3: Math – Floats” by typing the sample commands in the black area of the IDE. <br>\n>a.\tUse the “round()” function for the expressions you created in question #3 above. <br>\nb.\tList your “round()” expressions and the results they return below.\n"
    },
    {
      "metadata": {
        "trusted": true
      },
      "cell_type": "code",
      "source": "round(81/9)",
      "execution_count": 7,
      "outputs": [
        {
          "output_type": "execute_result",
          "execution_count": 7,
          "data": {
            "text/plain": "9"
          },
          "metadata": {}
        }
      ]
    },
    {
      "metadata": {
        "trusted": true
      },
      "cell_type": "code",
      "source": "round(87/5)",
      "execution_count": 8,
      "outputs": [
        {
          "output_type": "execute_result",
          "execution_count": 8,
          "data": {
            "text/plain": "17"
          },
          "metadata": {}
        }
      ]
    },
    {
      "metadata": {},
      "cell_type": "markdown",
      "source": "5.Read through “Lesson 3: Math – Comparison Operators”. <br>\n\n> a.Why do you think Equals is “==” instead of “=”? <br>\n_The equals is '==' instead of '=' because '=' is an assignment operator used to define variables whereas the '==' is a comparision operator used to compare variables.<br>_\n\n> b.What does “=” mean?<br>\n_The '=' sign is used to define the value of a variable. For example, x = 6 and y = 'Hello'_\n"
    },
    {
      "metadata": {},
      "cell_type": "markdown",
      "source": "6.Complete “Lesson 3: Math – Practice” and “Lesson 3: Math – Practice Answers” by typing the sample commands in the black area of the IDE. <br>\n>a.Create an expression using 5 different operators that returns a “True” result <br>\nb.And an expression using 5 different operators that returns a “False” result. <br>\nc.List your expressions and the results returned below.<br>\n"
    },
    {
      "metadata": {
        "trusted": true
      },
      "cell_type": "code",
      "source": "5*4-2+4>7*2-4+6",
      "execution_count": 9,
      "outputs": [
        {
          "output_type": "execute_result",
          "execution_count": 9,
          "data": {
            "text/plain": "True"
          },
          "metadata": {}
        }
      ]
    },
    {
      "metadata": {
        "trusted": true
      },
      "cell_type": "code",
      "source": "5*4-2+4==7*2-4+6",
      "execution_count": 10,
      "outputs": [
        {
          "output_type": "execute_result",
          "execution_count": 10,
          "data": {
            "text/plain": "False"
          },
          "metadata": {}
        }
      ]
    },
    {
      "metadata": {},
      "cell_type": "markdown",
      "source": "7.Complete “Lesson 4: Strings – Strings” and “Lesson 4: Strings – Examples” by typing the sample commands in the black area of the IDE. <br>\n\n> a.Explain why typing “apple” works and why typing apple without quotes gives an error. <br>\n_Typing \"apple\" instead of apple without quotes works because apple is a string and to define strings, single or double quotes must be used._\n\n> b.Also explain why “2 + 5” does not equal 7.<br>\n_\"2 + 5\" does not equal to 7 because the numbers have double quotes around them, which defines this as a string rather than an expression._\n"
    },
    {
      "metadata": {},
      "cell_type": "markdown",
      "source": "8.Complete “Lesson 4: Strings – Operators” by typing the sample commands in the black area of the IDE. <br>\n\n> a.Explain why typing “appl” + “e”  works and why typing “apple” - “e”  gives an error.<br>\n_Typing \"appl\" + \"e\" works instead of \"apple\" - \"e\" works because strings can be concatenated but not subtracted._\n\n\n>b.Also explain why “Hello” * 10 works but why “Hello” / 10  does work.<br>\n_Multiplying \"Hello\" by 10 works because string can be multiplied but they cannot be devided. Multiplying a string will return multiple copies of the string._"
    },
    {
      "metadata": {},
      "cell_type": "markdown",
      "source": "9.Complete “Lesson 4: Strings – Indexes” by typing the sample commands in the black area of the IDE.<br>\n\n>a.\tList the letters in your first name and the index for each letter in your first name.<br><br>\nK R I S H<br>\n0 1 2 3 4\n\n"
    },
    {
      "metadata": {},
      "cell_type": "markdown",
      "source": "10.Complete “Lesson 4: Strings – Indexes Examples” by typing the sample commands in the black area of the IDE. <br>\n\n>a.\tExplain why print(“Hello!”[4]) does not print “l”. <br>\n_The function print(\"Hello\"[4]) does not print \"l\" because string indexing starts with 0 and the fourth index in \"Hello\" is \"o\"_\n\n>b.\tWhat does print(“Hay, Bob!”[4]) print? For a hint try print(“Hay, Bob!”[3]) and print(“Hay, Bob!”[5])<br>\n_The function print(“Hay, Bob!”[4]) prints \" \" because the space is at the fourth index._"
    },
    {
      "metadata": {},
      "cell_type": "markdown",
      "source": "11.Complete “Lesson 4: Strings – Rules” by typing the sample commands in the black area of the IDE. <br>\n\n>a.\tExplain why print(“Hello!”[7]) gives an error.<br>\n_The function print(\"Hello!\"[7]) gives an error because the string \"Hello!\" only goes to the index of 5, and index 7 is out of that range._"
    },
    {
      "metadata": {},
      "cell_type": "markdown",
      "source": " "
    },
    {
      "metadata": {},
      "cell_type": "markdown",
      "source": "### Level 2: Booleans & Variables"
    },
    {
      "metadata": {},
      "cell_type": "markdown",
      "source": "1.Complete “Lesson 5: Variables – Save a Value” by typing the sample commands in the black area of the IDE. <br>\n>a.What do you get if you type puppies / 3? <br>\n_If puppies/3 is typed, python returns 12, which is 36/3._\n\n>b.\tWhy doesn’t typing kittens / 3 work? <br>\n_Typing kittens / 3 does not work because the variable kittens is not defined._\n"
    },
    {
      "metadata": {},
      "cell_type": "markdown",
      "source": "2.Complete “Lesson 5: Variables – Assign a New Value” by typing the sample commands in the black area of the IDE. <br>\n>a.\tExplain how the following sequence of commands works:<br>\n•\tpuppies = 36 <br>\n•\tpuppies = puppies / 6 <br>\n•\tpuppies\n"
    },
    {
      "metadata": {
        "trusted": true
      },
      "cell_type": "code",
      "source": "puppies = 36",
      "execution_count": 11,
      "outputs": []
    },
    {
      "metadata": {
        "trusted": true
      },
      "cell_type": "code",
      "source": "puppies = puppies/6",
      "execution_count": 12,
      "outputs": []
    },
    {
      "metadata": {
        "trusted": true
      },
      "cell_type": "code",
      "source": "puppies",
      "execution_count": 13,
      "outputs": [
        {
          "output_type": "execute_result",
          "execution_count": 13,
          "data": {
            "text/plain": "6.0"
          },
          "metadata": {}
        }
      ]
    },
    {
      "metadata": {},
      "cell_type": "markdown",
      "source": "> This sequence of code first defines the variable puppies having the value 36.<br>\nThen the variable puppies is reassigned the value puppies/6, which saves the values of puppies to be the last value divided by 6.<br>\nAt the end, typing puppies returns the current value of puppies."
    },
    {
      "metadata": {},
      "cell_type": "markdown",
      "source": "3.Read through “Lesson 5: Variables – Rules”.<br><br>\n4.Complete “Lesson 5: Variables – Math Operators” by typing the sample commands in the black area of the IDE. <br>\n>a. Explain what happens for following sequence of commands: <br>\n•\tcolour = “red”<br>\n•\tpuppies = 36 <br>\n•\tcolour + puppies<br>\n\n"
    },
    {
      "metadata": {},
      "cell_type": "markdown",
      "source": "5.Complete “Lesson 5: Variables – String Operators” by typing the sample commands in the black area of the IDE. <br>\n>a.Explain why the following commands give different results: <br>\n•\tColor + day * fishes<br>\n•\t( Color + day ) * fishes<br>\n_The commands give different outputs because python performs calculatin in BEDMAS form. Therefore, multiplication happens before addition in the first command but the second one performs operations inside the brackets first and then multiplication._\n"
    },
    {
      "metadata": {},
      "cell_type": "markdown",
      "source": "6.Complete “Lesson 5: Variables – Indexes” by typing the sample commands in the black area of the IDE. <br>\n>a.\tWhat is the index of ‘r’ in “watermelon”?<br>\n_The index of 'r' in watermelon is 4._\n\n>b.\tWrite an expression using mynumber to return ‘r’"
    },
    {
      "metadata": {
        "trusted": true
      },
      "cell_type": "code",
      "source": "fruit = \"watermelon\"\nmynumber = 4\nfruit[mynumber]",
      "execution_count": 14,
      "outputs": [
        {
          "output_type": "execute_result",
          "execution_count": 14,
          "data": {
            "text/plain": "'r'"
          },
          "metadata": {}
        }
      ]
    },
    {
      "metadata": {},
      "cell_type": "markdown",
      "source": "7.Complete “Lesson 5: Variables – Assignments or Comparisons” by typing the sample commands in the black area of the IDE. <br>\n\n>a.\tWhat is the difference between “=” and “==”?<br>\n_The \"=\" is used to assign a value to a variable in python whereas the \"==\" is used to check if a variable or expression is equal to another variable or expression._\n\n>b.\tCreate your own mnemonic to remember this difference.<br>\n"
    },
    {
      "metadata": {
        "trusted": true
      },
      "cell_type": "code",
      "source": "y = 7\nx = 4 + 3\ny == x",
      "execution_count": 15,
      "outputs": [
        {
          "output_type": "execute_result",
          "execution_count": 15,
          "data": {
            "text/plain": "True"
          },
          "metadata": {}
        }
      ]
    },
    {
      "metadata": {},
      "cell_type": "markdown",
      "source": "8.Complete “Lesson 6: Errors – Examples” by typing the sample commands in the black area of the IDE. <br>\n\n>a.\tWhy doesn’t “friend” + 5 work?<br>\n_The expression 'friend' + 5 does not work because integers cannot be added to string._\n\n>b.\tWhat is the difference between int and str?<br>\n_The abbreveation int refers to an integer(number) and the abbreveation str stands for string, which is also known as text._"
    },
    {
      "metadata": {},
      "cell_type": "markdown",
      "source": "9.Read through “Lesson 6: Errors – Parts of an Error Message”. <br>\n>a.\tIs “friend” + 5 an example of:<br>\n>>i.A Syntax Error?<br>\nii.A Runtime Error?<br>\niii.A Logic Error?<br>\n\n>_The expression \"friend\"+5 is an example of a syntax error because integers cannot be added to strings._\n"
    },
    {
      "metadata": {},
      "cell_type": "markdown",
      "source": "10.Read through “Lesson 6: Errors – Fixing Errors”. <br>\n>a. Use the ‘print’ command to print your first name and last name.\n"
    },
    {
      "metadata": {
        "trusted": true
      },
      "cell_type": "code",
      "source": "print(\"Krish\",\"Krish\")",
      "execution_count": 16,
      "outputs": [
        {
          "output_type": "stream",
          "text": "Krish Krish\n",
          "name": "stdout"
        }
      ]
    },
    {
      "metadata": {},
      "cell_type": "markdown",
      "source": "11.Complete “Lesson 7: Booleans – Types of Data” by typing the sample commands in the black area of the IDE. <br>\n>a.What is the value of: type(“True”)<br>\n_The value of type(\"True\") is a string because it is defined using double quotes._\n\n>b.What is the value of: type( True )<br>\n_The value of type(True) is bool because a boolean has either the value True or False._\n\n>c.Why is the result different?<br>\n_The result is different because in the first command, the input is in form of a string whereas in the second command the input is just True, which is a bool. If the input was true instead of True, then it would have raised a NameError._\n"
    },
    {
      "metadata": {},
      "cell_type": "markdown",
      "source": "12.Complete “Lesson 7: Booleans – What Is A Boolean” by typing the sample commands in the black area of the IDE.<br>\n\n>a.Why do you think that having a Boolean data type is important in computer programming?<br>\n_Having a boolean data type is important because it acts like a switch for certain functions._"
    },
    {
      "metadata": {},
      "cell_type": "markdown",
      "source": "13.Complete “Lesson 7: Booleans – Trying Out Booleans” by typing the sample commands in the black area of the IDE. <br>\n\n>a.Why do you think that there is no Maybe”  Boolean data value in computer programming?<br>\n_There is no Maybe data value in commputer programming because everything must be either True or False and a computer can only check if something is True or False. If the computer calculates to see if something is True or False, there can no maybe because it will only figure out if something is True or False._\n"
    },
    {
      "metadata": {},
      "cell_type": "markdown",
      "source": "### Level 3: Lists & Logic"
    },
    {
      "metadata": {},
      "cell_type": "markdown",
      "source": "1.Complete “Lesson 7: Booleans – AND Comparisons” by typing the sample commands in the black area of the IDE. <br>\n>a.Try the following Python statements and record the results.\n>>i.True and True<br>\nii.True and False<br>\niii.False and True<br>\niv.False and False"
    },
    {
      "metadata": {
        "trusted": true
      },
      "cell_type": "code",
      "source": "True and True",
      "execution_count": 17,
      "outputs": [
        {
          "output_type": "execute_result",
          "execution_count": 17,
          "data": {
            "text/plain": "True"
          },
          "metadata": {}
        }
      ]
    },
    {
      "metadata": {
        "trusted": true
      },
      "cell_type": "code",
      "source": "True and False",
      "execution_count": 18,
      "outputs": [
        {
          "output_type": "execute_result",
          "execution_count": 18,
          "data": {
            "text/plain": "False"
          },
          "metadata": {}
        }
      ]
    },
    {
      "metadata": {
        "trusted": true
      },
      "cell_type": "code",
      "source": "False and True",
      "execution_count": 19,
      "outputs": [
        {
          "output_type": "execute_result",
          "execution_count": 19,
          "data": {
            "text/plain": "False"
          },
          "metadata": {}
        }
      ]
    },
    {
      "metadata": {
        "trusted": true
      },
      "cell_type": "code",
      "source": "False and False",
      "execution_count": 20,
      "outputs": [
        {
          "output_type": "execute_result",
          "execution_count": 20,
          "data": {
            "text/plain": "False"
          },
          "metadata": {}
        }
      ]
    },
    {
      "metadata": {},
      "cell_type": "markdown",
      "source": ">b.Explain if there are any other combinations of True / False.<br>\n_There are no other combinations of True/False. Because booleans can only have two values, there can only be 4 combinations of True or False._\n\n>c.Explain how the AND operator is similar to a math operator and how it is different.\n"
    },
    {
      "metadata": {},
      "cell_type": "markdown",
      "source": "2.Complete “Lesson 7: Booleans – OR Comparisons” by typing the sample commands in the black area of the IDE.<br>\n\n>a.Try the following Python statements and record the results.\n>>i.True or True<br>\nii.True or False<br>\niii.False or True<br>\niv.False or False"
    },
    {
      "metadata": {
        "trusted": true
      },
      "cell_type": "code",
      "source": "True or True",
      "execution_count": 21,
      "outputs": [
        {
          "output_type": "execute_result",
          "execution_count": 21,
          "data": {
            "text/plain": "True"
          },
          "metadata": {}
        }
      ]
    },
    {
      "metadata": {
        "trusted": true
      },
      "cell_type": "code",
      "source": "True or False",
      "execution_count": 22,
      "outputs": [
        {
          "output_type": "execute_result",
          "execution_count": 22,
          "data": {
            "text/plain": "True"
          },
          "metadata": {}
        }
      ]
    },
    {
      "metadata": {
        "trusted": true
      },
      "cell_type": "code",
      "source": "False or True",
      "execution_count": 23,
      "outputs": [
        {
          "output_type": "execute_result",
          "execution_count": 23,
          "data": {
            "text/plain": "True"
          },
          "metadata": {}
        }
      ]
    },
    {
      "metadata": {
        "trusted": true
      },
      "cell_type": "code",
      "source": "False or False",
      "execution_count": 24,
      "outputs": [
        {
          "output_type": "execute_result",
          "execution_count": 24,
          "data": {
            "text/plain": "False"
          },
          "metadata": {}
        }
      ]
    },
    {
      "metadata": {},
      "cell_type": "markdown",
      "source": ">b.Explain how the OR operator is similar to the AND operator and how it is different.<br>\n_The or operator is similar to the and operator because it is used between two values to check for something. It is different from the AND operator becasue AND requires both inputs to be True to return True but the OR operator returns True even if one input is True._"
    },
    {
      "metadata": {},
      "cell_type": "markdown",
      "source": "3.Complete “Lesson 7: Booleans – NOT Comparisons” by typing the sample commands in the black area of the IDE. <br>\n>a.Try the following Python statements and record the results.<br>\ni.not (True or True)<br>\nii.not (True or False)<br>\niii.not (False or True)<br>\niv.not (False or False)<br>\n\n"
    },
    {
      "metadata": {
        "trusted": true
      },
      "cell_type": "code",
      "source": "not (True or True)",
      "execution_count": 25,
      "outputs": [
        {
          "output_type": "execute_result",
          "execution_count": 25,
          "data": {
            "text/plain": "False"
          },
          "metadata": {}
        }
      ]
    },
    {
      "metadata": {
        "trusted": true
      },
      "cell_type": "code",
      "source": "not (True or False)",
      "execution_count": 26,
      "outputs": [
        {
          "output_type": "execute_result",
          "execution_count": 26,
          "data": {
            "text/plain": "False"
          },
          "metadata": {}
        }
      ]
    },
    {
      "metadata": {
        "trusted": true
      },
      "cell_type": "code",
      "source": "not (False or True)",
      "execution_count": 27,
      "outputs": [
        {
          "output_type": "execute_result",
          "execution_count": 27,
          "data": {
            "text/plain": "False"
          },
          "metadata": {}
        }
      ]
    },
    {
      "metadata": {
        "trusted": true
      },
      "cell_type": "code",
      "source": "not (False or False)",
      "execution_count": 28,
      "outputs": [
        {
          "output_type": "execute_result",
          "execution_count": 28,
          "data": {
            "text/plain": "True"
          },
          "metadata": {}
        }
      ]
    },
    {
      "metadata": {},
      "cell_type": "markdown",
      "source": ">b.Explain how the combination of the NOT & OR operators is similar to the AND operator by itself and how it is different.<br>\n_The combination of the NOT & OR operators is similar to the AND operator becuase they return the same output. The combination is different from using NOT & AND because then the output will be inverted._"
    },
    {
      "metadata": {},
      "cell_type": "markdown",
      "source": "4.Complete “Lesson 7: Booleans – Expressions” by typing the sample commands in the black area of the IDE.<br>\n>a.Explain why the following two Python statements give different results.\n>>i.not (True or True)<br>\nii.not True or True<br>"
    },
    {
      "metadata": {
        "trusted": true
      },
      "cell_type": "code",
      "source": "not (True or True)",
      "execution_count": 29,
      "outputs": [
        {
          "output_type": "execute_result",
          "execution_count": 29,
          "data": {
            "text/plain": "False"
          },
          "metadata": {}
        }
      ]
    },
    {
      "metadata": {
        "trusted": true
      },
      "cell_type": "code",
      "source": "not True or True",
      "execution_count": 30,
      "outputs": [
        {
          "output_type": "execute_result",
          "execution_count": 30,
          "data": {
            "text/plain": "True"
          },
          "metadata": {}
        }
      ]
    },
    {
      "metadata": {},
      "cell_type": "markdown",
      "source": ">b.Explain why the following two Python statements give the same results.\n>>i.not (True and True)<br>\nii.not True and True<br>"
    },
    {
      "metadata": {},
      "cell_type": "markdown",
      "source": "5.Complete “Lesson 7: Booleans – Practice” by typing the sample commands in the black area of the IDE. \na.Create three more practice expressions similar to those in the tutorial.\nb.Provide the results for your practice expressions"
    },
    {
      "metadata": {},
      "cell_type": "markdown",
      "source": "6.Complete “Lesson 8: Lists – A Collection of Objects” by typing the sample commands in the black area of the IDE. \na.Create a list of your favorite sports teams.\nb.Assign your list to a variable.\nc.Confirm that your variable and your list are the same."
    },
    {
      "metadata": {},
      "cell_type": "markdown",
      "source": "7.Complete “Lesson 8: Lists – List Indexes” by typing the sample commands in the black area of the IDE. \na.What is the list index of the last team in your list of favorite sports teams.\nb.In the tutorial, the error produced by typing “fruit[3]” is an example of:\ni.A Syntax Error?\nii.A Runtime Error?\niii.A Logic Error?"
    },
    {
      "metadata": {},
      "cell_type": "markdown",
      "source": "9.Complete “Lesson 9: Logic – Making Decisions” by typing the sample commands in the white area of the IDE. \na.Modify the tutorial code to print “Hi Alfred!” based on a decision using numbers"
    },
    {
      "metadata": {},
      "cell_type": "markdown",
      "source": "10.Complete “Lesson 9: Logic – Adding A Choice” by typing the sample commands in the white area of the IDE. \na.Modify the tutorial code to print your first name or your last name based on a choice (using “else”)."
    },
    {
      "metadata": {},
      "cell_type": "markdown",
      "source": "11.Complete “Lesson 9: Logic – Adding Many Choices” and “Lesson 9: Logic – Practice” by typing the sample commands in the white area of the IDE. \na.Modify the tutorial code and “elif” statements to make a choice using at least 4 of your friends names."
    }
  ],
  "metadata": {
    "kernelspec": {
      "name": "python3",
      "display_name": "Python 3",
      "language": "python"
    },
    "language_info": {
      "mimetype": "text/x-python",
      "nbconvert_exporter": "python",
      "name": "python",
      "pygments_lexer": "ipython3",
      "version": "3.5.4",
      "file_extension": ".py",
      "codemirror_mode": {
        "version": 3,
        "name": "ipython"
      }
    }
  },
  "nbformat": 4,
  "nbformat_minor": 2
}