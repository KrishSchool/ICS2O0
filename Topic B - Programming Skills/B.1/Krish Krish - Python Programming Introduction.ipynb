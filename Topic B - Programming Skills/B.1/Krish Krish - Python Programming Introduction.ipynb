{
 "cells": [
  {
   "cell_type": "markdown",
   "metadata": {},
   "source": [
    "# Module B.1 Python Programming Introduction"
   ]
  },
  {
   "cell_type": "markdown",
   "metadata": {},
   "source": [
    "### Level 1: Basic Math & Strings\n",
    "#### Name: Krish Krish"
   ]
  },
  {
   "cell_type": "markdown",
   "metadata": {
    "collapsed": true
   },
   "source": [
    "1.\tComplete “Lesson 3: Math – Math Basics” by typing the sample commands in the black area of the IDE. <br>\n",
    "a.\tCreate your own expression using 5 “+” and “-“ operators. <br>\n",
    "b.\tList your expression and the result below.<br>\n"
   ]
  },
  {
   "cell_type": "code",
   "execution_count": 1,
   "metadata": {},
   "outputs": [
    {
     "data": {
      "text/plain": [
       "14"
      ]
     },
     "execution_count": 1,
     "metadata": {},
     "output_type": "execute_result"
    }
   ],
   "source": [
    "5 + 9"
   ]
  },
  {
   "cell_type": "code",
   "execution_count": 2,
   "metadata": {},
   "outputs": [
    {
     "data": {
      "text/plain": [
       "39"
      ]
     },
     "execution_count": 2,
     "metadata": {},
     "output_type": "execute_result"
    }
   ],
   "source": [
    "44-5"
   ]
  },
  {
   "cell_type": "markdown",
   "metadata": {},
   "source": [
    "2.\tComplete “Lesson 3: Math – More Operators” by typing the sample commands in the black area of the IDE. <br>\n",
    "a.\tCreate your own expression using 5 “*” and “/” operators. <br>\n",
    "b.\tList your expression and the result below.\n"
   ]
  },
  {
   "cell_type": "code",
   "execution_count": 3,
   "metadata": {},
   "outputs": [
    {
     "data": {
      "text/plain": [
       "35"
      ]
     },
     "execution_count": 3,
     "metadata": {},
     "output_type": "execute_result"
    }
   ],
   "source": [
    "5 * 7"
   ]
  },
  {
   "cell_type": "code",
   "execution_count": 4,
   "metadata": {},
   "outputs": [
    {
     "data": {
      "text/plain": [
       "17.0"
      ]
     },
     "execution_count": 4,
     "metadata": {},
     "output_type": "execute_result"
    }
   ],
   "source": [
    "85/5"
   ]
  },
  {
   "cell_type": "markdown",
   "metadata": {},
   "source": [
    "3.\tComplete “Lesson 3: Math – More Division” by typing the sample commands in the black area of the IDE. <br>\n",
    "a.\tCreate one division expression that gives a whole number answer <br>\n",
    "b.\tAnd one division expression that gives a decimal number answer. <br>\n",
    "c.\tList your expressions and the results below.\n"
   ]
  },
  {
   "cell_type": "code",
   "execution_count": 5,
   "metadata": {},
   "outputs": [
    {
     "data": {
      "text/plain": [
       "9.0"
      ]
     },
     "execution_count": 5,
     "metadata": {},
     "output_type": "execute_result"
    }
   ],
   "source": [
    "81/9"
   ]
  },
  {
   "cell_type": "code",
   "execution_count": 7,
   "metadata": {},
   "outputs": [
    {
     "data": {
      "text/plain": [
       "17.4"
      ]
     },
     "execution_count": 7,
     "metadata": {},
     "output_type": "execute_result"
    }
   ],
   "source": [
    "87/5"
   ]
  },
  {
   "cell_type": "markdown",
   "metadata": {},
   "source": [
    "4.\tComplete “Lesson 3: Math – Floats” by typing the sample commands in the black area of the IDE. <br>\n",
    "a.\tUse the “round()” function for the expressions you created in question #3 above. <br>\n",
    "b.\tList your “round()” expressions and the results they return below.\n"
   ]
  },
  {
   "cell_type": "code",
   "execution_count": 8,
   "metadata": {},
   "outputs": [
    {
     "data": {
      "text/plain": [
       "9"
      ]
     },
     "execution_count": 8,
     "metadata": {},
     "output_type": "execute_result"
    }
   ],
   "source": [
    "round(81/9)"
   ]
  },
  {
   "cell_type": "code",
   "execution_count": 11,
   "metadata": {},
   "outputs": [
    {
     "data": {
      "text/plain": [
       "17"
      ]
     },
     "execution_count": 11,
     "metadata": {},
     "output_type": "execute_result"
    }
   ],
   "source": [
    "round(87/5)"
   ]
  },
  {
   "cell_type": "markdown",
   "metadata": {},
   "source": [
    "5.\tRead through “Lesson 3: Math – Comparison Operators”. <br>\n",
    "\n",
    "> a.Why do you think Equals is “==” instead of “=”? <br>\n",
    "_The equals is '==' instead of '=' because '=' is used to define variables whereas the '==' is used to compare variables.<br>_\n",
    "\n",
    "> b.What does “=” mean?<br>\n",
    "_The '=' sign is used to define the value of a variable. For example, x = 6 and y = 'Hello'_\n"
   ]
  },
  {
   "cell_type": "markdown",
   "metadata": {},
   "source": [
    "6.\tComplete “Lesson 3: Math – Practice” and “Lesson 3: Math – Practice Answers” by typing the sample commands in the black area of the IDE. <br>\n",
    "a.\tCreate an expression using 5 different operators that returns a “True” result <br>\n",
    "b.\tAnd an expression using 5 different operators that returns a “False” result. <br>\n",
    "c.\tList your expressions and the results returned below.<br>\n"
   ]
  },
  {
   "cell_type": "code",
   "execution_count": 14,
   "metadata": {},
   "outputs": [
    {
     "data": {
      "text/plain": [
       "True"
      ]
     },
     "execution_count": 14,
     "metadata": {},
     "output_type": "execute_result"
    }
   ],
   "source": [
    "5*4-2+4>7*2-4+6"
   ]
  },
  {
   "cell_type": "code",
   "execution_count": 16,
   "metadata": {},
   "outputs": [
    {
     "data": {
      "text/plain": [
       "False"
      ]
     },
     "execution_count": 16,
     "metadata": {},
     "output_type": "execute_result"
    }
   ],
   "source": [
    "5*4-2+4==7*2-4+6"
   ]
  },
  {
   "cell_type": "markdown",
   "metadata": {},
   "source": [
    "7.\tComplete “Lesson 4: Strings – Strings” and “Lesson 4: Strings – Examples” by typing the sample commands in the black area of the IDE. <br>\n",
    "\n",
    "> a.Explain why typing “apple” works and why typing apple without quotes gives an error. <br>\n",
    "_Typing \"apple\" instead of apple without quotes works because apple is a string and to define strings, single or double quotes must be used._\n",
    "\n",
    "> b.Also explain why “2 + 5” does not equal 7.<br>\n",
    "_\"2 + 5\" does not equal to 7 because the numbers have double quotes around them, which defines this as a string rather than an expression._\n"
   ]
  },
  {
   "cell_type": "markdown",
   "metadata": {},
   "source": [
    "8.\tComplete “Lesson 4: Strings – Operators” by typing the sample commands in the black area of the IDE. <br>\n",
    "\n",
    "> a.Explain why typing “appl” + “e”  works and why typing “apple” - “e”  gives an error.<br>\n",
    "_Typing \"appl\" + \"e\" works instead of \"apple\" - \"e\" works because strings can be concatenated but not subtracted._\n",
    "\n",
    "\n",
    ">b.Also explain why “Hello” * 10 works but why “Hello” / 10  does work.<br>\n",
    "_Typing \"Hello\" $*$ 10 works because string can be multiplied but they cannot be devided. Multiplying a string will return multiple copies of the string._"
   ]
  },
  {
   "cell_type": "markdown",
   "metadata": {},
   "source": [
    "9.\tComplete “Lesson 4: Strings – Indexes” by typing the sample commands in the black area of the IDE.<br>\n",
    "\n",
    ">a.\tList the letters in your first name and the index for each letter in your first name.<br><br>\n",
    "K R I S H<br>\n",
    "0 1 2 3 4\n",
    "\n"
   ]
  },
  {
   "cell_type": "markdown",
   "metadata": {},
   "source": [
    "10.\tComplete “Lesson 4: Strings – Indexes Examples” by typing the sample commands in the black area of the IDE. <br>\n",
    "\n",
    ">a.\tExplain why print(“Hello!”[4]) does not print “l”. <br>\n",
    "_The function print(\"Hello\"[4]) does not print \"l\" because string indexing starts with 0 and the fourth index in \"Hello\" is \"o\"_\n",
    "\n",
    ">b.\tWhat does print(“Hay, Bob!”[4]) print? For a hint try print(“Hay, Bob!”[3]) and print(“Hay, Bob!”[5])<br>\n",
    "_The function print(“Hay, Bob!”[4]) prints \" \" because the space is at the fourth index._"
   ]
  },
  {
   "cell_type": "markdown",
   "metadata": {},
   "source": [
    "11.\tComplete “Lesson 4: Strings – Rules” by typing the sample commands in the black area of the IDE. <br>\n",
    "\n",
    ">a.\tExplain why print(“Hello!”[7]) gives an error.<br>\n",
    "_The function print(\"Hello!\"[7]) gives an error because the string \"Hello!\" only goes to the index of 5, and index 7 is out of that range._"
   ]
  },
  {
   "cell_type": "markdown",
   "metadata": {},
   "source": [
    " "
   ]
  }
 ],
 "metadata": {
  "kernelspec": {
   "display_name": "Python 3.6",
   "language": "python",
   "name": "python36"
  },
  "language_info": {
   "codemirror_mode": {
    "name": "ipython",
    "version": 3
   },
   "file_extension": ".py",
   "mimetype": "text/x-python",
   "name": "python",
   "nbconvert_exporter": "python",
   "pygments_lexer": "ipython3",
   "version": "3.6.3"
  }
 },
 "nbformat": 4,
 "nbformat_minor": 2
}
