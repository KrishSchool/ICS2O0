{
  "nbformat": 4,
  "nbformat_minor": 0,
  "metadata": {
    "colab": {
      "name": "TicTacToe.ipynb",
      "version": "0.3.2",
      "provenance": [],
      "collapsed_sections": []
    },
    "kernelspec": {
      "name": "python3",
      "display_name": "Python 3"
    }
  },
  "cells": [
    {
      "metadata": {
        "id": "rZugQJa6pAHw",
        "colab_type": "text"
      },
      "cell_type": "markdown",
      "source": [
        "# TicTacToe\n",
        "## Summative Pre-Work Assignment"
      ]
    },
    {
      "metadata": {
        "id": "19-pz826pKhX",
        "colab_type": "text"
      },
      "cell_type": "markdown",
      "source": [
        "### Importing Necessary Modules."
      ]
    },
    {
      "metadata": {
        "id": "yOcXJzs5miya",
        "colab_type": "code",
        "colab": {}
      },
      "cell_type": "code",
      "source": [
        "import sys\n",
        "import random\n",
        "import time"
      ],
      "execution_count": 0,
      "outputs": []
    },
    {
      "metadata": {
        "id": "omC0BTtdpY5v",
        "colab_type": "text"
      },
      "cell_type": "markdown",
      "source": [
        "### Checking if code is being run in the terminal or in a IPython notebook. <br>\n",
        "Importing other necessary modules based on the kind of runtime."
      ]
    },
    {
      "metadata": {
        "id": "duBs9mdFojbf",
        "colab_type": "code",
        "colab": {}
      },
      "cell_type": "code",
      "source": [
        "using_ipython = False\n",
        "if 'ipykernel' in sys.modules:\n",
        "    using_ipython = True\n",
        "elif 'IPython' in sys.modules:\n",
        "    using_ipython = False\n",
        "    \n",
        "if using_ipython:\n",
        "  from IPython.display import clear_output\n",
        "else:\n",
        "  import os"
      ],
      "execution_count": 0,
      "outputs": []
    },
    {
      "metadata": {
        "id": "tB4vBzlFq5Gi",
        "colab_type": "text"
      },
      "cell_type": "markdown",
      "source": [
        "### Defining display functions.\n",
        "These functions will be later used to display the game."
      ]
    },
    {
      "metadata": {
        "id": "r1t63Ho-pCWZ",
        "colab_type": "code",
        "colab": {}
      },
      "cell_type": "code",
      "source": [
        "def display_board(board):\n",
        "    '''\n",
        "    Takes in a list with a length of 9, and displays \n",
        "    it as a Tic-Tac-Toe game board.\n",
        "    INPUT: The board, represented by a list.\n",
        "    OUTPUT: A visual representation of the board, printed to the console.\n",
        "    '''\n",
        "    print('       |       |')\n",
        "    print('   ' + board[0] + '   |   ' + board[1] + '   |   ' + board[2])\n",
        "    print('       |       |')\n",
        "    print('-------------------------')\n",
        "    print('       |       |')\n",
        "    print('   ' + board[3] + '   |   ' + board[4] + '   |   ' + board[5])\n",
        "    print('       |       |')\n",
        "    print('-------------------------')\n",
        "    print('       |       |')\n",
        "    print('   ' + board[6] + '   |   ' + board[7] + '   |   ' + board[8])\n",
        "    print('       |       |')"
      ],
      "execution_count": 0,
      "outputs": []
    },
    {
      "metadata": {
        "id": "yMtVkS6usxFt",
        "colab_type": "text"
      },
      "cell_type": "markdown",
      "source": [
        "A clear function will help keeping the console output neat."
      ]
    },
    {
      "metadata": {
        "id": "2UKBZyfzsrKE",
        "colab_type": "code",
        "colab": {}
      },
      "cell_type": "code",
      "source": [
        "def clear(time_to_wait=0):\n",
        "  '''\n",
        "  A clear function that clears the console output based \n",
        "  upon what kind of console is being used.\n",
        "  The 2 supported consoles are:\n",
        "  Regular Terminal Console\n",
        "  IPython Console\n",
        "  \n",
        "  If using IPython, the program uses the built-in clear method.\n",
        "  \n",
        "  If using regular console, uses the OS library\n",
        "  to check which operating system is being used and \n",
        "  then use the correct command to clear the console.\n",
        "  \n",
        "  INPUT: Amount of time in seconds to wait before clearing the output. Default is set to 0.\n",
        "  '''\n",
        "  time.sleep(time_to_wait)\n",
        "  if using_ipython:\n",
        "    clear_output()\n",
        "  else:\n",
        "    if os.name == 'nt':\n",
        "      os.system('cls')\n",
        "    else:\n",
        "      os.system('clear')\n",
        "    "
      ],
      "execution_count": 0,
      "outputs": []
    },
    {
      "metadata": {
        "id": "EmUPrX_lz_XN",
        "colab_type": "text"
      },
      "cell_type": "markdown",
      "source": [
        "### Defining the input function.\n",
        "These following function takes the input and checks if it is a valid move.\n",
        "\n",
        "An error class named \"PositionError\" is also defined. <br>\n",
        "This class helps track down input errors and provide the player with useful information to give valid input."
      ]
    },
    {
      "metadata": {
        "id": "LJ6OdGuLUrSE",
        "colab_type": "code",
        "colab": {}
      },
      "cell_type": "code",
      "source": [
        "class PositionError(Exception):\n",
        "  pass"
      ],
      "execution_count": 0,
      "outputs": []
    },
    {
      "metadata": {
        "id": "fNbNHDeewOqd",
        "colab_type": "code",
        "colab": {}
      },
      "cell_type": "code",
      "source": [
        "def player_input(board):\n",
        "    is_valid_input = False\n",
        "    while not is_valid_input:\n",
        "        try:\n",
        "            input_from_player = input('What box would you like to mark?: ')\n",
        "            time.sleep(0.5)\n",
        "            position = int(input_from_player)\n",
        "            if position < 1 or position > 9:\n",
        "                raise ValueError\n",
        "            if position == 7:\n",
        "                that_cell = main_board[0]\n",
        "            elif position == 8:\n",
        "                that_cell = main_board[1]\n",
        "            elif position == 9:\n",
        "                that_cell = main_board[2]\n",
        "            elif position == 4:\n",
        "                that_cell = main_board[3]\n",
        "            elif position == 5:\n",
        "                that_cell = main_board[4]\n",
        "            elif position == 6:\n",
        "                that_cell = main_board[5]\n",
        "            elif position == 1:\n",
        "                that_cell = main_board[6]\n",
        "            elif position == 2:\n",
        "                that_cell = main_board[7]\n",
        "            elif position == 3:\n",
        "                that_cell = main_board[8]\n",
        "            if that_cell != ' ':\n",
        "              raise PositionError\n",
        "            else:\n",
        "                is_valid_input = True\n",
        "        except ValueError:\n",
        "            clear()\n",
        "            print(\"Invalid choice. The number must be in the range of 1-9.\")\n",
        "            display_board(board)\n",
        "        except PositionError:\n",
        "            clear()\n",
        "            print(\"Invalid choice. The chosen position is already occupied.\")\n",
        "            display_board(board)\n",
        "        else:\n",
        "            clear()\n",
        "            return int(input_from_player)"
      ],
      "execution_count": 0,
      "outputs": []
    },
    {
      "metadata": {
        "id": "UXK45mNDXwFQ",
        "colab_type": "text"
      },
      "cell_type": "markdown",
      "source": [
        "### Defining the Marker Placing function.\n",
        "This function places either the 'X' or the 'O' marker on the board.\n",
        "\n",
        "For my program, I will use a Boolean data type to store if it is the player's turn or the computer's turn.\n",
        "\n",
        "A value of \"True\" will represent the player X.\n",
        "\n",
        "A value of \"False\" will represent the player O."
      ]
    },
    {
      "metadata": {
        "id": "cNtdiL9DYLsQ",
        "colab_type": "code",
        "colab": {}
      },
      "cell_type": "code",
      "source": [
        "def player_place_marker(marker,position):\n",
        "    if position == 7:\n",
        "        main_board[0] = 'X' if marker else 'O'\n",
        "        return main_board\n",
        "    elif position == 8:\n",
        "        main_board[1] = 'X' if marker else 'O'\n",
        "        return main_board\n",
        "    elif position == 9:\n",
        "        main_board[2] = 'X' if marker else 'O'\n",
        "        return main_board\n",
        "    elif position == 4:\n",
        "        main_board[3] = 'X' if marker else 'O'\n",
        "        return main_board\n",
        "    elif position == 5:\n",
        "        main_board[4] = 'X' if marker else 'O'\n",
        "        return main_board\n",
        "    elif position == 6:\n",
        "        main_board[5] = 'X' if marker else 'O'\n",
        "        return main_board\n",
        "    elif position == 1:\n",
        "        main_board[6] = 'X' if marker else 'O'\n",
        "        return main_board\n",
        "    elif position == 2:\n",
        "        main_board[7] = 'X' if marker else 'O'\n",
        "        return main_board\n",
        "    elif position == 3:\n",
        "        main_board[8] = 'X' if marker else 'O'\n",
        "        return main_board"
      ],
      "execution_count": 0,
      "outputs": []
    },
    {
      "metadata": {
        "id": "e0Vgta6VxMFu",
        "colab_type": "text"
      },
      "cell_type": "markdown",
      "source": [
        "### Defining the win-checking function.\n",
        "\n",
        "This function will compare the board to all possible win combinations to determine if a player has won or not.<br>\n",
        "It returns two variables, \"winx\" and \"wino\", which tells if a player has won or not."
      ]
    },
    {
      "metadata": {
        "id": "zz54hUC4xfty",
        "colab_type": "code",
        "colab": {}
      },
      "cell_type": "code",
      "source": [
        "def win_check(board):\n",
        "    winx=False\n",
        "    wino=False\n",
        "    if board[0] == board[1] == board[2] != ' ':\n",
        "        if board[0] == 'X':\n",
        "            winx = True\n",
        "        elif board[0] == 'O':\n",
        "            wino = True\n",
        "    if board[3] == board[4] == board[5] != ' ':\n",
        "        if board[3] == 'X':\n",
        "            winx = True\n",
        "        elif board[3] == 'O':\n",
        "            wino = True\n",
        "    if board[6] == board[7] == board[8] != ' ':\n",
        "        if board[6] == 'X':\n",
        "            winx = True\n",
        "        elif board[6] == 'O':\n",
        "            wino = True\n",
        "    if board[0] == board[3] == board[6] != ' ':\n",
        "        if board[0] == 'X':\n",
        "            winx = True\n",
        "        elif board[0] == 'O':\n",
        "            wino = True\n",
        "    if board[1] == board[4] == board[7] != ' ':\n",
        "        if board[1] == 'X':\n",
        "            winx = True\n",
        "        elif board[1] == 'O':\n",
        "            wino = True\n",
        "    if board[2] == board[5] == board[8] != ' ':\n",
        "        if board[2] == 'X':\n",
        "            winx = True\n",
        "        elif board[2] == 'O':\n",
        "            wino = True\n",
        "    if board[0] == board[4] == board[8] != ' ':\n",
        "        if board[0] == 'X':\n",
        "            winx = True\n",
        "        elif board[0] == 'O':\n",
        "            wino = True\n",
        "    if board[2] == board[4] == board[6] != ' ':\n",
        "        if board[2] == 'X':\n",
        "            winx = True\n",
        "        elif board[2] == 'O':\n",
        "            wino = True\n",
        "    return winx, wino"
      ],
      "execution_count": 0,
      "outputs": []
    },
    {
      "metadata": {
        "id": "d3OTFODqyCcB",
        "colab_type": "text"
      },
      "cell_type": "markdown",
      "source": [
        "### Defining a function that checks if the board is full.\n",
        "\n",
        "If the game board is full and neither players have won, the game results in a tie.<br>\n",
        "This following function will check if the board is full or not, and then can be used to detect a tie."
      ]
    },
    {
      "metadata": {
        "id": "xL9lcECjxxhy",
        "colab_type": "code",
        "colab": {}
      },
      "cell_type": "code",
      "source": [
        "def full_board_check(board):\n",
        "    if ' ' not in board:\n",
        "        return True\n",
        "        #Board is full\n",
        "    else:\n",
        "        return False\n",
        "        #Board is not full, keep going."
      ],
      "execution_count": 0,
      "outputs": []
    },
    {
      "metadata": {
        "id": "I_g9g9ruXvaF",
        "colab_type": "text"
      },
      "cell_type": "markdown",
      "source": [
        "### Defining the function that will play as the computer.\n",
        "\n",
        "These following functions will randomly pick one of the valid moves and then play it, acting as a second player."
      ]
    },
    {
      "metadata": {
        "id": "-GpUYPueYGyO",
        "colab_type": "code",
        "colab": {}
      },
      "cell_type": "code",
      "source": [
        "def get_valid_moves(board):\n",
        "  x=0\n",
        "  valid_move_indexes=[]\n",
        "  for box in board:\n",
        "    if ' ' in box:\n",
        "      valid_move_indexes.append(x)\n",
        "    x+=1\n",
        "  return valid_move_indexes"
      ],
      "execution_count": 0,
      "outputs": []
    },
    {
      "metadata": {
        "id": "hyy28QgvwNo2",
        "colab_type": "code",
        "colab": {}
      },
      "cell_type": "code",
      "source": [
        "def computer_move(list_of_valid_moves):\n",
        "  computer_choice = random.choice(list_of_valid_moves)\n",
        "  return computer_choice"
      ],
      "execution_count": 0,
      "outputs": []
    },
    {
      "metadata": {
        "id": "_SncG-7DxFWz",
        "colab_type": "code",
        "colab": {}
      },
      "cell_type": "code",
      "source": [
        "def computer_place_marker(index,board,marker):\n",
        "  board[index] = 'X' if marker else 'O'"
      ],
      "execution_count": 0,
      "outputs": []
    },
    {
      "metadata": {
        "id": "WTjiysg55XXd",
        "colab_type": "text"
      },
      "cell_type": "markdown",
      "source": [
        "### Defining the gameplay functions.\n",
        "\n",
        "These following functions will create the main gameplay."
      ]
    },
    {
      "metadata": {
        "id": "TQfH14r89cis",
        "colab_type": "code",
        "colab": {}
      },
      "cell_type": "code",
      "source": [
        "marker = True\n",
        "def flip_marker():\n",
        "  global marker\n",
        "  if marker:\n",
        "    marker = False\n",
        "  else:\n",
        "    marker = True\n",
        "  return marker"
      ],
      "execution_count": 0,
      "outputs": []
    },
    {
      "metadata": {
        "id": "m3kKYQf36hZ2",
        "colab_type": "code",
        "colab": {}
      },
      "cell_type": "code",
      "source": [
        "def initalize():\n",
        "  print(\"Welcome to tic tac toe\")\n",
        "  print(\"The player will go first as 'X'!\")"
      ],
      "execution_count": 0,
      "outputs": []
    },
    {
      "metadata": {
        "id": "bGsYymEY5iyr",
        "colab_type": "code",
        "colab": {}
      },
      "cell_type": "code",
      "source": [
        "def game(board=main_board):\n",
        "  for _ in range(9):\n",
        "    clear()\n",
        "    winx,wino=win_check(board)\n",
        "    full = full_board_check(board)\n",
        "    if winx:\n",
        "      display_board(board)\n",
        "      print(\"Player ❌ has won!\")\n",
        "      break\n",
        "    elif wino:\n",
        "      display_board(board)\n",
        "      print(\"Player O has won!\")\n",
        "      break\n",
        "    elif not winx and not wino and full:\n",
        "      display_board(board)\n",
        "      print(\"It's a tie!\")\n",
        "      break\n",
        "    else:\n",
        "      marker = flip_marker()\n",
        "      display_board(board)\n",
        "      player_place_marker(marker,player_input(board))\n",
        "      clear(1)\n",
        "      winx,wino = win_check(board)\n",
        "      full = full_board_check(board)\n",
        "      if winx:\n",
        "        display_board(board)\n",
        "        print(\"Player ❌ has won!\")\n",
        "        break\n",
        "      elif wino:\n",
        "        display_board(board)\n",
        "        print(\"Player O has won!\")\n",
        "        break\n",
        "      elif not winx and not wino and full:\n",
        "        display_board(board)\n",
        "        print(\"It's a tie!\")\n",
        "        break\n",
        "      print(\"Now the computer's turn!\")\n",
        "      marker = flip_marker()\n",
        "      computer_place_marker(computer_move(get_valid_moves(board)),board,marker)\n",
        "      display_board(board)\n",
        "      clear(2)"
      ],
      "execution_count": 0,
      "outputs": []
    },
    {
      "metadata": {
        "id": "nMZqKZ4q2oej",
        "colab_type": "text"
      },
      "cell_type": "markdown",
      "source": [
        "### Playing the Game!\n",
        "\n",
        "Now, we can create a game board and start the main game!"
      ]
    },
    {
      "metadata": {
        "id": "ygx_jHjc-Fy-",
        "colab_type": "code",
        "colab": {}
      },
      "cell_type": "code",
      "source": [
        "\n",
        "main_board=[' ',' ',' ',' ',' ',' ',' ',' ',' ']\n",
        "game(main_board)"
      ],
      "execution_count": 0,
      "outputs": []
    }
  ]
}