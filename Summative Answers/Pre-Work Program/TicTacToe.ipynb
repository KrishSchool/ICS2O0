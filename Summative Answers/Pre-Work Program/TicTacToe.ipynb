{
 "cells": [
  {
   "cell_type": "markdown",
   "metadata": {
    "colab_type": "text",
    "id": "rZugQJa6pAHw"
   },
   "source": [
    "# TicTacToe\n",
    "## Summative Pre-Work Assignment"
   ]
  },
  {
   "cell_type": "markdown",
   "metadata": {
    "colab_type": "text",
    "id": "19-pz826pKhX"
   },
   "source": [
    "### Importing Necessary Modules."
   ]
  },
  {
   "cell_type": "code",
   "execution_count": 1,
   "metadata": {
    "colab": {},
    "colab_type": "code",
    "id": "yOcXJzs5miya"
   },
   "outputs": [],
   "source": [
    "import sys\n",
    "import random\n",
    "import time"
   ]
  },
  {
   "cell_type": "markdown",
   "metadata": {
    "colab_type": "text",
    "id": "omC0BTtdpY5v"
   },
   "source": [
    "### Checking if code is being run in the terminal or in a IPython notebook. <br>\n",
    "Importing other necessary modules based on the kind of runtime."
   ]
  },
  {
   "cell_type": "code",
   "execution_count": 2,
   "metadata": {
    "colab": {},
    "colab_type": "code",
    "id": "duBs9mdFojbf"
   },
   "outputs": [],
   "source": [
    "using_ipython = False\n",
    "if 'ipykernel' in sys.modules:\n",
    "    using_ipython = True\n",
    "elif 'IPython' in sys.modules:\n",
    "    using_ipython = False\n",
    "    \n",
    "if using_ipython:\n",
    "  from IPython.display import clear_output\n",
    "else:\n",
    "  import os"
   ]
  },
  {
   "cell_type": "markdown",
   "metadata": {
    "colab_type": "text",
    "id": "tB4vBzlFq5Gi"
   },
   "source": [
    "### Defining display functions.\n",
    "These functions will be later used to display the game."
   ]
  },
  {
   "cell_type": "code",
   "execution_count": 3,
   "metadata": {
    "colab": {},
    "colab_type": "code",
    "id": "r1t63Ho-pCWZ"
   },
   "outputs": [],
   "source": [
    "def display_board(board):\n",
    "    '''\n",
    "    Takes in a list with a length of 9, and displays \n",
    "    it as a Tic-Tac-Toe game board.\n",
    "    INPUT: The board, represented by a list.\n",
    "    OUTPUT: A visual representation of the board, printed to the console.\n",
    "    '''\n",
    "    print('       |       |')\n",
    "    print('   ' + board[0] + '   |   ' + board[1] + '   |   ' + board[2])\n",
    "    print('       |       |')\n",
    "    print('-------------------------')\n",
    "    print('       |       |')\n",
    "    print('   ' + board[3] + '   |   ' + board[4] + '   |   ' + board[5])\n",
    "    print('       |       |')\n",
    "    print('-------------------------')\n",
    "    print('       |       |')\n",
    "    print('   ' + board[6] + '   |   ' + board[7] + '   |   ' + board[8])\n",
    "    print('       |       |')"
   ]
  },
  {
   "cell_type": "markdown",
   "metadata": {
    "colab_type": "text",
    "id": "yMtVkS6usxFt"
   },
   "source": [
    "A clear function will help keeping the console output neat."
   ]
  },
  {
   "cell_type": "code",
   "execution_count": 4,
   "metadata": {
    "colab": {},
    "colab_type": "code",
    "id": "2UKBZyfzsrKE"
   },
   "outputs": [],
   "source": [
    "def clear(time_to_wait=0):\n",
    "  '''\n",
    "  A clear function that clears the console output based \n",
    "  upon what kind of console is being used.\n",
    "  The 2 supported consoles are:\n",
    "  Regular Terminal Console\n",
    "  IPython Console\n",
    "  \n",
    "  If using IPython, the program uses the built-in clear method.\n",
    "  \n",
    "  If using regular console, uses the OS library\n",
    "  to check which operating system is being used and \n",
    "  then use the correct command to clear the console.\n",
    "  \n",
    "  INPUT: Amount of time in seconds to wait before clearing the output. Default is set to 0.\n",
    "  '''\n",
    "  time.sleep(time_to_wait)\n",
    "  if using_ipython:\n",
    "    clear_output()\n",
    "  else:\n",
    "    if os.name == 'nt':\n",
    "      os.system('cls')\n",
    "    else:\n",
    "      os.system('clear')\n",
    "    "
   ]
  },
  {
   "cell_type": "markdown",
   "metadata": {
    "colab_type": "text",
    "id": "EmUPrX_lz_XN"
   },
   "source": [
    "### Defining the input function.\n",
    "These following function takes the input and checks if it is a valid move.\n",
    "\n",
    "An error class named \"PositionError\" is also defined. <br>\n",
    "This class helps track down input errors and provide the player with useful information to give valid input."
   ]
  },
  {
   "cell_type": "code",
   "execution_count": 5,
   "metadata": {
    "colab": {},
    "colab_type": "code",
    "id": "LJ6OdGuLUrSE"
   },
   "outputs": [],
   "source": [
    "class PositionError(Exception):\n",
    "  pass"
   ]
  },
  {
   "cell_type": "code",
   "execution_count": 6,
   "metadata": {
    "colab": {},
    "colab_type": "code",
    "id": "fNbNHDeewOqd"
   },
   "outputs": [],
   "source": [
    "def player_input(board):\n",
    "    is_valid_input = False\n",
    "    while not is_valid_input:\n",
    "        try:\n",
    "            input_from_player = input('What box would you like to mark?: ')\n",
    "            time.sleep(0.5)\n",
    "            position = int(input_from_player)\n",
    "            if position < 1 or position > 9:\n",
    "                raise ValueError\n",
    "            if position == 7:\n",
    "                that_cell = main_board[0]\n",
    "            elif position == 8:\n",
    "                that_cell = main_board[1]\n",
    "            elif position == 9:\n",
    "                that_cell = main_board[2]\n",
    "            elif position == 4:\n",
    "                that_cell = main_board[3]\n",
    "            elif position == 5:\n",
    "                that_cell = main_board[4]\n",
    "            elif position == 6:\n",
    "                that_cell = main_board[5]\n",
    "            elif position == 1:\n",
    "                that_cell = main_board[6]\n",
    "            elif position == 2:\n",
    "                that_cell = main_board[7]\n",
    "            elif position == 3:\n",
    "                that_cell = main_board[8]\n",
    "            if that_cell != ' ':\n",
    "              raise PositionError\n",
    "            else:\n",
    "                is_valid_input = True\n",
    "        except ValueError:\n",
    "            clear()\n",
    "            print(\"Invalid choice. The number must be in the range of 1-9.\")\n",
    "            display_board(board)\n",
    "        except PositionError:\n",
    "            clear()\n",
    "            print(\"Invalid choice. The chosen position is already occupied.\")\n",
    "            display_board(board)\n",
    "        else:\n",
    "            clear()\n",
    "            return int(input_from_player)"
   ]
  },
  {
   "cell_type": "markdown",
   "metadata": {
    "colab_type": "text",
    "id": "UXK45mNDXwFQ"
   },
   "source": [
    "### Defining the Marker Placing function.\n",
    "This function places either the 'X' or the 'O' marker on the board.\n",
    "\n",
    "For my program, I will use a Boolean data type to store if it is the player's turn or the computer's turn.\n",
    "\n",
    "A value of \"True\" will represent the player X.\n",
    "\n",
    "A value of \"False\" will represent the player O."
   ]
  },
  {
   "cell_type": "code",
   "execution_count": 7,
   "metadata": {
    "colab": {},
    "colab_type": "code",
    "id": "cNtdiL9DYLsQ"
   },
   "outputs": [],
   "source": [
    "def player_place_marker(marker,position):\n",
    "    if position == 7:\n",
    "        main_board[0] = 'X' if marker else 'O'\n",
    "        return main_board\n",
    "    elif position == 8:\n",
    "        main_board[1] = 'X' if marker else 'O'\n",
    "        return main_board\n",
    "    elif position == 9:\n",
    "        main_board[2] = 'X' if marker else 'O'\n",
    "        return main_board\n",
    "    elif position == 4:\n",
    "        main_board[3] = 'X' if marker else 'O'\n",
    "        return main_board\n",
    "    elif position == 5:\n",
    "        main_board[4] = 'X' if marker else 'O'\n",
    "        return main_board\n",
    "    elif position == 6:\n",
    "        main_board[5] = 'X' if marker else 'O'\n",
    "        return main_board\n",
    "    elif position == 1:\n",
    "        main_board[6] = 'X' if marker else 'O'\n",
    "        return main_board\n",
    "    elif position == 2:\n",
    "        main_board[7] = 'X' if marker else 'O'\n",
    "        return main_board\n",
    "    elif position == 3:\n",
    "        main_board[8] = 'X' if marker else 'O'\n",
    "        return main_board"
   ]
  },
  {
   "cell_type": "markdown",
   "metadata": {
    "colab_type": "text",
    "id": "e0Vgta6VxMFu"
   },
   "source": [
    "### Defining the win-checking function.\n",
    "\n",
    "This function will compare the board to all possible win combinations to determine if a player has won or not.<br>\n",
    "It returns two variables, \"winx\" and \"wino\", which tells if a player has won or not."
   ]
  },
  {
   "cell_type": "code",
   "execution_count": 8,
   "metadata": {
    "colab": {},
    "colab_type": "code",
    "id": "zz54hUC4xfty"
   },
   "outputs": [],
   "source": [
    "def win_check(board):\n",
    "    winx=False\n",
    "    wino=False\n",
    "    if board[0] == board[1] == board[2] != ' ':\n",
    "        if board[0] == 'X':\n",
    "            winx = True\n",
    "        elif board[0] == 'O':\n",
    "            wino = True\n",
    "    if board[3] == board[4] == board[5] != ' ':\n",
    "        if board[3] == 'X':\n",
    "            winx = True\n",
    "        elif board[3] == 'O':\n",
    "            wino = True\n",
    "    if board[6] == board[7] == board[8] != ' ':\n",
    "        if board[6] == 'X':\n",
    "            winx = True\n",
    "        elif board[6] == 'O':\n",
    "            wino = True\n",
    "    if board[0] == board[3] == board[6] != ' ':\n",
    "        if board[0] == 'X':\n",
    "            winx = True\n",
    "        elif board[0] == 'O':\n",
    "            wino = True\n",
    "    if board[1] == board[4] == board[7] != ' ':\n",
    "        if board[1] == 'X':\n",
    "            winx = True\n",
    "        elif board[1] == 'O':\n",
    "            wino = True\n",
    "    if board[2] == board[5] == board[8] != ' ':\n",
    "        if board[2] == 'X':\n",
    "            winx = True\n",
    "        elif board[2] == 'O':\n",
    "            wino = True\n",
    "    if board[0] == board[4] == board[8] != ' ':\n",
    "        if board[0] == 'X':\n",
    "            winx = True\n",
    "        elif board[0] == 'O':\n",
    "            wino = True\n",
    "    if board[2] == board[4] == board[6] != ' ':\n",
    "        if board[2] == 'X':\n",
    "            winx = True\n",
    "        elif board[2] == 'O':\n",
    "            wino = True\n",
    "    return winx, wino"
   ]
  },
  {
   "cell_type": "markdown",
   "metadata": {
    "colab_type": "text",
    "id": "d3OTFODqyCcB"
   },
   "source": [
    "### Defining a function that checks if the board is full.\n",
    "\n",
    "If the game board is full and neither players have won, the game results in a tie.<br>\n",
    "This following function will check if the board is full or not, and then can be used to detect a tie."
   ]
  },
  {
   "cell_type": "code",
   "execution_count": 9,
   "metadata": {
    "colab": {},
    "colab_type": "code",
    "id": "xL9lcECjxxhy"
   },
   "outputs": [],
   "source": [
    "def full_board_check(board):\n",
    "    if ' ' not in board:\n",
    "        return True\n",
    "        #Board is full\n",
    "    else:\n",
    "        return False\n",
    "        #Board is not full, keep going."
   ]
  },
  {
   "cell_type": "markdown",
   "metadata": {
    "colab_type": "text",
    "id": "I_g9g9ruXvaF"
   },
   "source": [
    "### Defining the function that will play as the computer.\n",
    "\n",
    "These following functions will randomly pick one of the valid moves and then play it, acting as a second player."
   ]
  },
  {
   "cell_type": "code",
   "execution_count": 10,
   "metadata": {
    "colab": {},
    "colab_type": "code",
    "id": "-GpUYPueYGyO"
   },
   "outputs": [],
   "source": [
    "def get_valid_moves(board):\n",
    "  x=0\n",
    "  valid_move_indexes=[]\n",
    "  for box in board:\n",
    "    if ' ' in box:\n",
    "      valid_move_indexes.append(x)\n",
    "    x+=1\n",
    "  return valid_move_indexes"
   ]
  },
  {
   "cell_type": "code",
   "execution_count": 11,
   "metadata": {
    "colab": {},
    "colab_type": "code",
    "id": "hyy28QgvwNo2"
   },
   "outputs": [],
   "source": [
    "def computer_move(list_of_valid_moves):\n",
    "  computer_choice = random.choice(list_of_valid_moves)\n",
    "  return computer_choice"
   ]
  },
  {
   "cell_type": "code",
   "execution_count": 12,
   "metadata": {
    "colab": {},
    "colab_type": "code",
    "id": "_SncG-7DxFWz"
   },
   "outputs": [],
   "source": [
    "def computer_place_marker(index,board,marker):\n",
    "  board[index] = 'X' if marker else 'O'"
   ]
  },
  {
   "cell_type": "markdown",
   "metadata": {
    "colab_type": "text",
    "id": "WTjiysg55XXd"
   },
   "source": [
    "### Defining the gameplay functions.\n",
    "\n",
    "These following functions will create the main gameplay."
   ]
  },
  {
   "cell_type": "code",
   "execution_count": 13,
   "metadata": {
    "colab": {},
    "colab_type": "code",
    "id": "TQfH14r89cis"
   },
   "outputs": [],
   "source": [
    "marker = True\n",
    "def flip_marker():\n",
    "  global marker\n",
    "  if marker:\n",
    "    marker = False\n",
    "  else:\n",
    "    marker = True\n",
    "  return marker"
   ]
  },
  {
   "cell_type": "code",
   "execution_count": 14,
   "metadata": {
    "colab": {},
    "colab_type": "code",
    "id": "m3kKYQf36hZ2"
   },
   "outputs": [],
   "source": [
    "def initalize():\n",
    "  print(\"Welcome to tic tac toe\")\n",
    "  print(\"The player will go first as 'X'!\")"
   ]
  },
  {
   "cell_type": "code",
   "execution_count": 15,
   "metadata": {
    "colab": {},
    "colab_type": "code",
    "id": "bGsYymEY5iyr"
   },
   "outputs": [],
   "source": [
    "def game(board):\n",
    "  for _ in range(9):\n",
    "    clear()\n",
    "    winx,wino=win_check(board)\n",
    "    full = full_board_check(board)\n",
    "    if winx:\n",
    "      display_board(board)\n",
    "      print(\"Player ❌ has won!\")\n",
    "      break\n",
    "    elif wino:\n",
    "      display_board(board)\n",
    "      print(\"Player O has won!\")\n",
    "      break\n",
    "    elif not winx and not wino and full:\n",
    "      display_board(board)\n",
    "      print(\"It's a tie!\")\n",
    "      break\n",
    "    else:\n",
    "      marker = flip_marker()\n",
    "      display_board(board)\n",
    "      player_place_marker(marker,player_input(board))\n",
    "      clear(1)\n",
    "      winx,wino = win_check(board)\n",
    "      full = full_board_check(board)\n",
    "      if winx:\n",
    "        display_board(board)\n",
    "        print(\"Player ❌ has won!\")\n",
    "        break\n",
    "      elif wino:\n",
    "        display_board(board)\n",
    "        print(\"Player O has won!\")\n",
    "        break\n",
    "      elif not winx and not wino and full:\n",
    "        display_board(board)\n",
    "        print(\"It's a tie!\")\n",
    "        break\n",
    "      print(\"Now the computer's turn!\")\n",
    "      marker = flip_marker()\n",
    "      computer_place_marker(computer_move(get_valid_moves(board)),board,marker)\n",
    "      display_board(board)\n",
    "      clear(2)"
   ]
  },
  {
   "cell_type": "markdown",
   "metadata": {
    "colab_type": "text",
    "id": "nMZqKZ4q2oej"
   },
   "source": [
    "### Playing the Game!\n",
    "\n",
    "Now, we can create a game board and start the main game!"
   ]
  },
  {
   "cell_type": "code",
   "execution_count": 16,
   "metadata": {
    "colab": {},
    "colab_type": "code",
    "id": "ygx_jHjc-Fy-"
   },
   "outputs": [
    {
     "name": "stdout",
     "output_type": "stream",
     "text": [
      "       |       |\n",
      "   O   |   O   |   X\n",
      "       |       |\n",
      "-------------------------\n",
      "       |       |\n",
      "   O   |   X   |    \n",
      "       |       |\n",
      "-------------------------\n",
      "       |       |\n",
      "   O   |   X   |    \n",
      "       |       |\n",
      "Player O has won!\n"
     ]
    }
   ],
   "source": [
    "\n",
    "main_board=[' ',' ',' ',' ',' ',' ',' ',' ',' ']\n",
    "game(main_board)"
   ]
  }
 ],
 "metadata": {
  "colab": {
   "collapsed_sections": [],
   "name": "TicTacToe.ipynb",
   "provenance": [],
   "version": "0.3.2"
  },
  "kernelspec": {
   "display_name": "Python 3",
   "language": "python",
   "name": "python3"
  },
  "language_info": {
   "codemirror_mode": {
    "name": "ipython",
    "version": 3
   },
   "file_extension": ".py",
   "mimetype": "text/x-python",
   "name": "python",
   "nbconvert_exporter": "python",
   "pygments_lexer": "ipython3",
   "version": "3.6.5"
  }
 },
 "nbformat": 4,
 "nbformat_minor": 1
}
